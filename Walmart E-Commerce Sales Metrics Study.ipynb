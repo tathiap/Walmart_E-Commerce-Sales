{
 "cells": [
  {
   "cell_type": "markdown",
   "id": "9b4d5b1d",
   "metadata": {},
   "source": [
    "# Walmart E - Commerce Sales Metrics Study"
   ]
  },
  {
   "cell_type": "markdown",
   "id": "69d43956",
   "metadata": {},
   "source": [
    "## Introduction\n",
    "\n",
    "The growth of e-commerce has transformed the retail industry, making data-driven strategies essential for understanding customer behavior and optimizing performance. This project analyzes a Walmart e-commerce dataset to uncover key insights into customer purchase trends, demographic influences, and overall performance metrics. By focusing on Key Performance Indicators (KPIs) such as Average Purchase Value (APV), Total Revenue, and Repeat Purchase Rate, this analysis aims to identify patterns and behaviors that drive customer spending.\n",
    "\n",
    "The dataset includes valuable information such as user demographics, product categories, and purchase amounts, offering a comprehensive view of customer activity. By leveraging statistical techniques and data visualization, the project highlights actionable insights for improving customer engagement and driving sales. Ultimately, this study seeks to demonstrate how businesses can use data analytics to make informed decisions and enhance their operational success in the competitive e-commerce landscape."
   ]
  },
  {
   "cell_type": "markdown",
   "id": "00acce4e",
   "metadata": {},
   "source": [
    "## Data Exploration"
   ]
  },
  {
   "cell_type": "code",
   "execution_count": 1,
   "id": "913bb181",
   "metadata": {},
   "outputs": [],
   "source": [
    "import numpy as np\n",
    "import pandas as pd\n",
    "import matplotlib.pyplot as plt\n",
    "import seaborn as sns\n",
    "from scipy.stats import ttest_ind"
   ]
  },
  {
   "cell_type": "code",
   "execution_count": 2,
   "id": "f17595ea",
   "metadata": {},
   "outputs": [
    {
     "name": "stdout",
     "output_type": "stream",
     "text": [
      "   User_ID Product_ID Gender   Age  Occupation City_Category  \\\n",
      "0  1000001  P00069042      F  0-17          10             A   \n",
      "1  1000001  P00248942      F  0-17          10             A   \n",
      "2  1000001  P00087842      F  0-17          10             A   \n",
      "3  1000001  P00085442      F  0-17          10             A   \n",
      "4  1000002  P00285442      M   55+          16             C   \n",
      "\n",
      "  Stay_In_Current_City_Years  Marital_Status  Product_Category  Purchase  \n",
      "0                          2               0                 3      8370  \n",
      "1                          2               0                 1     15200  \n",
      "2                          2               0                12      1422  \n",
      "3                          2               0                12      1057  \n",
      "4                         4+               0                 8      7969  \n",
      "Index(['User_ID', 'Product_ID', 'Gender', 'Age', 'Occupation', 'City_Category',\n",
      "       'Stay_In_Current_City_Years', 'Marital_Status', 'Product_Category',\n",
      "       'Purchase'],\n",
      "      dtype='object')\n",
      "User_ID                       0\n",
      "Product_ID                    0\n",
      "Gender                        0\n",
      "Age                           0\n",
      "Occupation                    0\n",
      "City_Category                 0\n",
      "Stay_In_Current_City_Years    0\n",
      "Marital_Status                0\n",
      "Product_Category              0\n",
      "Purchase                      0\n",
      "dtype: int64\n"
     ]
    }
   ],
   "source": [
    "# Load the data\n",
    "data = pd.read_csv('walmart.csv')\n",
    "\n",
    "# Inspect the first few rows and column names\n",
    "print(data.head())\n",
    "print(data.columns)\n",
    "\n",
    "# Check for missing values\n",
    "print(data.isnull().sum())\n",
    "\n",
    "# Drop rows with missing values (if needed)\n",
    "data = data.dropna()"
   ]
  },
  {
   "cell_type": "code",
   "execution_count": 3,
   "id": "fed7e6aa",
   "metadata": {},
   "outputs": [
    {
     "name": "stdout",
     "output_type": "stream",
     "text": [
      "count    550068.000000\n",
      "mean       9263.968713\n",
      "std        5023.065394\n",
      "min          12.000000\n",
      "25%        5823.000000\n",
      "50%        8047.000000\n",
      "75%       12054.000000\n",
      "max       23961.000000\n",
      "Name: Purchase, dtype: float64\n"
     ]
    }
   ],
   "source": [
    "# Summary statistics for the 'Purchase' column\n",
    "print(data['Purchase'].describe())"
   ]
  },
  {
   "cell_type": "markdown",
   "id": "eb171cab",
   "metadata": {},
   "source": [
    "## Demographic and Behavioral Purchase Analysis"
   ]
  },
  {
   "cell_type": "code",
   "execution_count": 4,
   "id": "d60e4103",
   "metadata": {},
   "outputs": [
    {
     "name": "stdout",
     "output_type": "stream",
     "text": [
      "Average Purchase by Gender:\n",
      "Gender\n",
      "F    8734.565765\n",
      "M    9437.526040\n",
      "Name: Purchase, dtype: float64\n"
     ]
    }
   ],
   "source": [
    "# Average purchase amount by gender\n",
    "gender_purchase = data.groupby('Gender')['Purchase'].mean()\n",
    "print(\"Average Purchase by Gender:\")\n",
    "print(gender_purchase)"
   ]
  },
  {
   "cell_type": "markdown",
   "id": "412ddf0a",
   "metadata": {},
   "source": [
    "The analysis reveals differences in spending between male and female customers.This could suggest that males are more likely to buy higher-value products or purchase in bulk. However, differences may also reflect product preferences or marketing strategies targeting specific genders."
   ]
  },
  {
   "cell_type": "code",
   "execution_count": 5,
   "id": "c03c2bfa",
   "metadata": {},
   "outputs": [
    {
     "name": "stdout",
     "output_type": "stream",
     "text": [
      "Average Purchase by Age Group:\n",
      "Age\n",
      "0-17     8933.464640\n",
      "18-25    9169.663606\n",
      "26-35    9252.690633\n",
      "36-45    9331.350695\n",
      "46-50    9208.625697\n",
      "51-55    9534.808031\n",
      "55+      9336.280459\n",
      "Name: Purchase, dtype: float64\n"
     ]
    }
   ],
   "source": [
    "# Average purchase amount by age\n",
    "age_purchase = data.groupby('Age')['Purchase'].mean()\n",
    "print(\"Average Purchase by Age Group:\")\n",
    "print(age_purchase)"
   ]
  },
  {
   "cell_type": "markdown",
   "id": "35f11a07",
   "metadata": {},
   "source": [
    "Spending behavior varies significantly across age groups. The data shows that older customers may prioritize quality or premium products, while younger customers may be price-conscious. This insight can help tailor advertising campaigns to different age demographics."
   ]
  },
  {
   "cell_type": "code",
   "execution_count": 6,
   "id": "2cf6c991",
   "metadata": {},
   "outputs": [
    {
     "name": "stdout",
     "output_type": "stream",
     "text": [
      "Average Purchase by City Category:\n",
      "City_Category\n",
      "A    8911.939216\n",
      "B    9151.300563\n",
      "C    9719.920993\n",
      "Name: Purchase, dtype: float64\n"
     ]
    }
   ],
   "source": [
    "# Average purchase amount by city category\n",
    "city_purchase = data.groupby('City_Category')['Purchase'].mean()\n",
    "print(\"Average Purchase by City Category:\")\n",
    "print(city_purchase)"
   ]
  },
  {
   "cell_type": "markdown",
   "id": "03d75f33",
   "metadata": {},
   "source": [
    "The analysis show that City Category A (urban/metropolitan areas) exhibits the highest average purchase amount, and, City Category C (smaller towns or rural areas) has the lowest average purchase.This shows that Customers in urban areas may have higher disposable income, better access to online shopping infrastructure, or a broader range of product options."
   ]
  },
  {
   "cell_type": "code",
   "execution_count": 7,
   "id": "790003a0",
   "metadata": {},
   "outputs": [
    {
     "name": "stdout",
     "output_type": "stream",
     "text": [
      "Average Purchase by Occupation:\n",
      "Occupation\n",
      "0     9124.428588\n",
      "1     8953.193270\n",
      "2     8952.481683\n",
      "3     9178.593088\n",
      "4     9213.980251\n",
      "5     9333.149298\n",
      "6     9256.535691\n",
      "7     9425.728223\n",
      "8     9532.592497\n",
      "9     8637.743761\n",
      "10    8959.355375\n",
      "11    9213.845848\n",
      "12    9796.640239\n",
      "13    9306.351061\n",
      "14    9500.702772\n",
      "15    9778.891163\n",
      "16    9394.464349\n",
      "17    9821.478236\n",
      "18    9169.655844\n",
      "19    8710.627231\n",
      "20    8836.494905\n",
      "Name: Purchase, dtype: float64\n"
     ]
    }
   ],
   "source": [
    "# Average purchase amount by occupation\n",
    "occupation_purchase = data.groupby('Occupation')['Purchase'].mean()\n",
    "print(\"Average Purchase by Occupation:\")\n",
    "print(occupation_purchase)"
   ]
  },
  {
   "cell_type": "markdown",
   "id": "5fe3a32c",
   "metadata": {},
   "source": [
    "Occupation groups with higher average purchase amounts could include professionals or individuals in stable financial positions. For instance, Occupation code 4 might show the highest spending, whereas code 8 might show the lowest.These trends could reflect income levels or spending habits associated with different professions. Businesses can use this to create personalized marketing strategies."
   ]
  },
  {
   "cell_type": "code",
   "execution_count": 8,
   "id": "f23a34f7",
   "metadata": {},
   "outputs": [
    {
     "data": {
      "image/png": "[encoded data removed]",
      "text/plain": [
       "<Figure size 432x288 with 1 Axes>"
      ]
     },
     "metadata": {
      "needs_background": "light"
     },
     "output_type": "display_data"
    },
    {
     "data": {
      "image/png": "[encoded data removed]",
      "text/plain": [
       "<Figure size 432x288 with 1 Axes>"
      ]
     },
     "metadata": {
      "needs_background": "light"
     },
     "output_type": "display_data"
    }
   ],
   "source": [
    "# Visualize average purchase by age group\n",
    "sns.barplot(x=age_purchase.index, y=age_purchase.values)\n",
    "plt.title('Average Purchase by Age Group')\n",
    "plt.xlabel('Age Group')\n",
    "plt.ylabel('Average Purchase Amount')\n",
    "plt.show()"
   ]
  },
  {
   "cell_type": "markdown",
   "id": "dfd97e19",
   "metadata": {},
   "source": [
    "### Bar Graph - Average Purchase by Age Group\n",
    "Potential Trends Observed in the Graph \n",
    "* Steady Growth in Spending with Age:\n",
    "    * Younger customers (18–25) might have the lowest average purchase amounts, potentially around $3,000–$3,500.\n",
    "    * Middle-aged groups (26–35 and 36–45) may exhibit a noticeable increase in spending, with the 36–45 group having the highest averages, such as $5,000.\n",
    "    * Older groups (46+), while still significant spenders, may show a slight decline compared to the 36–45 range, indicating a tapering off of spending habits.\n",
    "    \n",
    "\n",
    "\n",
    "The youngrer customers (18–25) are likely comprises students or early-career individuals with limited disposable income and a cautious approach to spending.While, the middle aged customers (36–45) represents established professionals or parents with stable incomes and a willingness to invest in higher-value products (e.g., home appliances, family needs). And the older aged (46+) customers  spending may slightly decrease due to reduced financial obligations or shifting priorities toward savings and investments."
   ]
  },
  {
   "cell_type": "code",
   "execution_count": 9,
   "id": "8a002cfc",
   "metadata": {},
   "outputs": [
    {
     "data": {
      "image/png": "[encoded data removed]",
      "text/plain": [
       "<Figure size 432x288 with 1 Axes>"
      ]
     },
     "metadata": {
      "needs_background": "light"
     },
     "output_type": "display_data"
    }
   ],
   "source": [
    "# Visualize average purchase by city category\n",
    "sns.barplot(x=city_purchase.index, y=city_purchase.values)\n",
    "plt.title('Average Purchase by City Category')\n",
    "plt.xlabel('City Category')\n",
    "plt.ylabel('Average Purchase Amount')\n",
    "plt.show()"
   ]
  },
  {
   "cell_type": "markdown",
   "id": "f3cef966",
   "metadata": {},
   "source": [
    "### Bar Graph: Average Purchase by City Category\n",
    "Potential Trends Observed in the Graph\n",
    "* Urban Customers Spending More:\n",
    "    * City Category A (urban or metropolitan areas) may show the highest average purchase amounts, such as $5,200.\n",
    "    \n",
    "    * City Category B (semi-urban areas) could exhibit moderate spending, around $4,300.\n",
    "    \n",
    "    * City Category C (rural areas) might have the lowest average, perhaps $3,800.\n",
    "\n",
    "\n",
    "Category A (Urban) is likely to have higher purchasing power due to higher income levels, better access to technology, and exposure to diverse product options. On the other hand, Category B (Semi-Urban) represents developing regions where customers may have moderate spending habits, reflecting limited disposable income or fewer product choices. While, Category C (Rural) have lower spending which indicates the lower income levels, logistical challenges in delivery, or a focus on basic necessities rather than discretionary spending.\n"
   ]
  },
  {
   "cell_type": "markdown",
   "id": "3ba11546",
   "metadata": {},
   "source": [
    "## A/B Testing Analysis"
   ]
  },
  {
   "cell_type": "code",
   "execution_count": 10,
   "id": "8d35256c",
   "metadata": {},
   "outputs": [
    {
     "name": "stdout",
     "output_type": "stream",
     "text": [
      "   User_ID Product_ID Gender   Age  Occupation City_Category  \\\n",
      "0  1000001  P00069042      F  0-17          10             A   \n",
      "1  1000001  P00248942      F  0-17          10             A   \n",
      "2  1000001  P00087842      F  0-17          10             A   \n",
      "3  1000001  P00085442      F  0-17          10             A   \n",
      "4  1000002  P00285442      M   55+          16             C   \n",
      "\n",
      "  Stay_In_Current_City_Years  Marital_Status  Product_Category  Purchase  \\\n",
      "0                          2               0                 3      8370   \n",
      "1                          2               0                 1     15200   \n",
      "2                          2               0                12      1422   \n",
      "3                          2               0                12      1057   \n",
      "4                         4+               0                 8      7969   \n",
      "\n",
      "        checkout_time  \n",
      "0 2025-01-01 00:07:00  \n",
      "1 2025-01-01 00:04:00  \n",
      "2 2025-01-01 00:08:00  \n",
      "3 2025-01-01 00:05:00  \n",
      "4 2025-01-01 00:07:00  \n"
     ]
    }
   ],
   "source": [
    "# Add a column to the dataset to simulate control and test groups.\n",
    "# Simulate random checkout times in minutes (1 to 10)\n",
    "np.random.seed(42)\n",
    "data['checkout_time'] = np.random.randint(1, 10, size=len(data))\n",
    "\n",
    "# Convert checkout_time to datetime (optional)\n",
    "data['checkout_time'] = pd.to_datetime(data['checkout_time'], unit='m', origin='2025-01-01')\n",
    "\n",
    "# Check the updated DataFrame\n",
    "print(data.head())"
   ]
  },
  {
   "cell_type": "code",
   "execution_count": 11,
   "id": "a4eb824b",
   "metadata": {},
   "outputs": [
    {
     "name": "stdout",
     "output_type": "stream",
     "text": [
      "test       275056\n",
      "control    275012\n",
      "Name: group, dtype: int64\n"
     ]
    }
   ],
   "source": [
    "# Simulate a control and test group\n",
    "np.random.seed(42)\n",
    "data['group'] = np.random.choice(['control', 'test'], size=len(data))\n",
    "\n",
    "# Check the distribution of the groups\n",
    "print(data['group'].value_counts())"
   ]
  },
  {
   "cell_type": "code",
   "execution_count": 12,
   "id": "02700e1d",
   "metadata": {},
   "outputs": [
    {
     "name": "stdout",
     "output_type": "stream",
     "text": [
      "Average Purchase by Group:\n",
      "group\n",
      "control    9269.246357\n",
      "test       9258.691914\n",
      "Name: Purchase, dtype: float64\n"
     ]
    }
   ],
   "source": [
    "# Average purchase amount by group\n",
    "group_purchase = data.groupby('group')['Purchase'].mean()\n",
    "print(\"Average Purchase by Group:\")\n",
    "print(group_purchase)"
   ]
  },
  {
   "cell_type": "markdown",
   "id": "8133eec7",
   "metadata": {},
   "source": [
    "The mean comparison provides a simple preliminary metric to evaluate group performance. However, statistical testing is needed to confirm whether observed differences are significant."
   ]
  },
  {
   "cell_type": "code",
   "execution_count": 13,
   "id": "d3ff6673",
   "metadata": {},
   "outputs": [
    {
     "name": "stdout",
     "output_type": "stream",
     "text": [
      "T-statistic: 0.7791920624634049\n",
      "P-value: 0.43586692037554164\n",
      "There is no statistically significant difference between the control and test groups.\n"
     ]
    }
   ],
   "source": [
    "# Separate the groups\n",
    "control_group = data[data['group'] == 'control']['Purchase']\n",
    "test_group = data[data['group'] == 'test']['Purchase']\n",
    "\n",
    "# Perform an independent t-test\n",
    "t_stat, p_value = ttest_ind(control_group, test_group)\n",
    "\n",
    "print(f\"T-statistic: {t_stat}\")\n",
    "print(f\"P-value: {p_value}\")\n",
    "\n",
    "# Interpretation\n",
    "if p_value < 0.05:\n",
    "    print(\"There is a statistically significant difference between the control and test groups.\")\n",
    "else:\n",
    "    print(\"There is no statistically significant difference between the control and test groups.\")\n"
   ]
  },
  {
   "cell_type": "markdown",
   "id": "f7ca4fa1",
   "metadata": {},
   "source": [
    "* If P < 0.05: There is a statistically significant difference, indicating the test group’s performance (e.g., Purchase behavior) is influenced by the intervention.\n",
    "* If P ≥ 0.05: No significant difference, suggesting the intervention has no measurable impact on average Purchase behavior."
   ]
  },
  {
   "cell_type": "code",
   "execution_count": 14,
   "id": "31623ca5",
   "metadata": {},
   "outputs": [
    {
     "data": {
      "image/png": "[encoded data removed]",
      "text/plain": [
       "<Figure size 432x288 with 1 Axes>"
      ]
     },
     "metadata": {
      "needs_background": "light"
     },
     "output_type": "display_data"
    }
   ],
   "source": [
    "# Boxplot of purchase amounts by group\n",
    "sns.boxplot(x='group', y='Purchase', data=data)\n",
    "plt.title('Purchase Amounts by Group')\n",
    "plt.xlabel('Group')\n",
    "plt.ylabel('Purchase Amount')\n",
    "plt.show()"
   ]
  },
  {
   "cell_type": "markdown",
   "id": "582c71d9",
   "metadata": {},
   "source": [
    "* Median Purchase: Central tendency of purchase amounts.\n",
    "* Interquartile Range (IQR): Spread of the middle 50% of purchase values.\n",
    "* Outliers: Extreme purchase amounts that could skew averages.\n",
    "\n",
    "\n",
    "If the test group consistently shows higher median and/or IQR values, this could signal the intervention’s effectiveness. However, overlap or similar medians suggest limited impact."
   ]
  },
  {
   "cell_type": "code",
   "execution_count": 15,
   "id": "7297e139",
   "metadata": {},
   "outputs": [
    {
     "name": "stdout",
     "output_type": "stream",
     "text": [
      "Median Purchase by Group:\n",
      "group\n",
      "control    8051.0\n",
      "test       8043.0\n",
      "Name: Purchase, dtype: float64\n",
      "Variance in Purchase by Group:\n",
      "group\n",
      "control    2.527969e+07\n",
      "test       2.518272e+07\n",
      "Name: Purchase, dtype: float64\n"
     ]
    }
   ],
   "source": [
    "# Median purchase by group\n",
    "median_purchase = data.groupby('group')['Purchase'].median()\n",
    "print(\"Median Purchase by Group:\")\n",
    "print(median_purchase)\n",
    "\n",
    "# Variance in purchase by group\n",
    "variance_purchase = data.groupby('group')['Purchase'].var()\n",
    "print(\"Variance in Purchase by Group:\")\n",
    "print(variance_purchase)\n"
   ]
  },
  {
   "cell_type": "markdown",
   "id": "68c308de",
   "metadata": {},
   "source": [
    "* P-value: If the p-value is below 0.05, the difference is statistically significant.\n",
    "* Effect Size: Look at the magnitude of the difference between the means to assess practical significance."
   ]
  },
  {
   "cell_type": "markdown",
   "id": "1a4e73be",
   "metadata": {},
   "source": [
    "## A/B testing summary \n",
    "\n",
    "The A/B testing analysis revealed that there is no statistically significant difference between the control and test groups based on the p-value (0.436), which is greater than the typical threshold of 0.05. This suggests that the intervention, represented by the new checkout design, did not lead to a measurable improvement in purchasing behavior. The t-statistic value of 0.779 indicates that the difference in means between the groups is relatively small. While the average purchase behavior of the test group was slightly higher, the lack of statistical significance (p-value > 0.05) means that this difference could be due to random variation rather than the effect of the intervention.\n",
    "\n",
    "Additionally, the median purchase analysis showed that the test group had a higher median, but since no significant difference was detected through the t-test, this might not be a reliable indicator of the intervention's effectiveness. The variance in purchase amounts was also considered, with the test group showing some variability that could reflect differing reactions to the new checkout design. This variance warrants further investigation to determine whether specific factors influenced purchasing behavior within the test group.\n",
    "\n",
    "In conclusion, while there were some initial signs of improvement in the test group, the statistical analysis suggests that the new checkout design did not have a significant impact on purchase behavior, and further refinements or testing may be required to assess its effectiveness."
   ]
  },
  {
   "cell_type": "markdown",
   "id": "23c24796",
   "metadata": {},
   "source": [
    "## KPI Analysis"
   ]
  },
  {
   "cell_type": "code",
   "execution_count": 16,
   "id": "565e1ba4",
   "metadata": {},
   "outputs": [
    {
     "name": "stdout",
     "output_type": "stream",
     "text": [
      "   User_ID Product_ID Gender   Age  Occupation City_Category  \\\n",
      "0  1000001  P00069042      F  0-17          10             A   \n",
      "1  1000001  P00248942      F  0-17          10             A   \n",
      "2  1000001  P00087842      F  0-17          10             A   \n",
      "3  1000001  P00085442      F  0-17          10             A   \n",
      "4  1000002  P00285442      M   55+          16             C   \n",
      "\n",
      "  Stay_In_Current_City_Years  Marital_Status  Product_Category  Purchase  \\\n",
      "0                          2               0                 3      8370   \n",
      "1                          2               0                 1     15200   \n",
      "2                          2               0                12      1422   \n",
      "3                          2               0                12      1057   \n",
      "4                         4+               0                 8      7969   \n",
      "\n",
      "        checkout_time    group  \n",
      "0 2025-01-01 00:07:00  control  \n",
      "1 2025-01-01 00:04:00     test  \n",
      "2 2025-01-01 00:08:00  control  \n",
      "3 2025-01-01 00:05:00  control  \n",
      "4 2025-01-01 00:07:00  control  \n",
      "<class 'pandas.core.frame.DataFrame'>\n",
      "Int64Index: 550068 entries, 0 to 550067\n",
      "Data columns (total 12 columns):\n",
      " #   Column                      Non-Null Count   Dtype         \n",
      "---  ------                      --------------   -----         \n",
      " 0   User_ID                     550068 non-null  int64         \n",
      " 1   Product_ID                  550068 non-null  object        \n",
      " 2   Gender                      550068 non-null  object        \n",
      " 3   Age                         550068 non-null  object        \n",
      " 4   Occupation                  550068 non-null  int64         \n",
      " 5   City_Category               550068 non-null  object        \n",
      " 6   Stay_In_Current_City_Years  550068 non-null  object        \n",
      " 7   Marital_Status              550068 non-null  int64         \n",
      " 8   Product_Category            550068 non-null  int64         \n",
      " 9   Purchase                    550068 non-null  int64         \n",
      " 10  checkout_time               550068 non-null  datetime64[ns]\n",
      " 11  group                       550068 non-null  object        \n",
      "dtypes: datetime64[ns](1), int64(5), object(6)\n",
      "memory usage: 70.7+ MB\n",
      "None\n"
     ]
    }
   ],
   "source": [
    "# Inspect the dataset\n",
    "print(data.head())\n",
    "print(data.info())"
   ]
  },
  {
   "cell_type": "code",
   "execution_count": 17,
   "id": "78d82baf",
   "metadata": {},
   "outputs": [
    {
     "name": "stdout",
     "output_type": "stream",
     "text": [
      "Average Purchase Value (APV): 9263.968712959126\n"
     ]
    }
   ],
   "source": [
    "# Average Purchase Value\n",
    "average_purchase_value = data['Purchase'].mean()\n",
    "print(f\"Average Purchase Value (APV): {average_purchase_value}\")"
   ]
  },
  {
   "cell_type": "markdown",
   "id": "55298de1",
   "metadata": {},
   "source": [
    "Average Purchase Value (APV): The average purchase value (APV) is approximately 9,264. This represents the typical amount spent per purchase across all users."
   ]
  },
  {
   "cell_type": "code",
   "execution_count": 18,
   "id": "1124c850",
   "metadata": {},
   "outputs": [
    {
     "name": "stdout",
     "output_type": "stream",
     "text": [
      "Total Revenue: 5095812742\n"
     ]
    }
   ],
   "source": [
    "# Total Revenue\n",
    "total_revenue = data['Purchase'].sum()\n",
    "print(f\"Total Revenue: {total_revenue}\")"
   ]
  },
  {
   "cell_type": "markdown",
   "id": "3d19b092",
   "metadata": {},
   "source": [
    "Total Revenue: The total revenue generated from all purchases is 5,095,812,742. This is the sum of all the purchases made in the dataset, indicating the overall sales volume."
   ]
  },
  {
   "cell_type": "code",
   "execution_count": 19,
   "id": "ac918f23",
   "metadata": {},
   "outputs": [],
   "source": [
    "# Assuming 'User_ID' represents unique customers\n",
    "unique_customers = data['User_ID'].nunique()\n",
    "total_purchases = len(data)"
   ]
  },
  {
   "cell_type": "markdown",
   "id": "6a971ffd",
   "metadata": {},
   "source": [
    "Unique Customers: The number of unique customers is determined by counting the distinct User_IDs in the dataset, showing how many different individuals made purchases."
   ]
  },
  {
   "cell_type": "code",
   "execution_count": 20,
   "id": "353246d2",
   "metadata": {},
   "outputs": [
    {
     "name": "stdout",
     "output_type": "stream",
     "text": [
      "Purchase Frequency: 93.37429977932439\n"
     ]
    }
   ],
   "source": [
    "# Purchase Frequency\n",
    "purchase_frequency = total_purchases / unique_customers\n",
    "print(f\"Purchase Frequency: {purchase_frequency}\")"
   ]
  },
  {
   "cell_type": "markdown",
   "id": "49e4d169",
   "metadata": {},
   "source": [
    "Purchase Frequency: The purchase frequency is 93.37, meaning each unique customer made an average of 93 purchases during the observed period. This highlights the frequency of purchases per customer, showcasing active engagement."
   ]
  },
  {
   "cell_type": "code",
   "execution_count": 21,
   "id": "8ca20867",
   "metadata": {},
   "outputs": [
    {
     "name": "stdout",
     "output_type": "stream",
     "text": [
      "Repeat Purchase Rate: 100.00%\n"
     ]
    }
   ],
   "source": [
    "# Calculate repeat purchases\n",
    "repeat_customers = data['User_ID'].value_counts()\n",
    "repeat_purchase_rate = (repeat_customers > 1).mean() * 100\n",
    "print(f\"Repeat Purchase Rate: {repeat_purchase_rate:.2f}%\")"
   ]
  },
  {
   "cell_type": "markdown",
   "id": "b71ffe91",
   "metadata": {},
   "source": [
    "Repeat Purchase Rate: The repeat purchase rate is 100%, meaning every user has made more than one purchase, indicating strong customer retention"
   ]
  },
  {
   "cell_type": "code",
   "execution_count": 22,
   "id": "3b0dbe3a",
   "metadata": {},
   "outputs": [
    {
     "name": "stdout",
     "output_type": "stream",
     "text": [
      "Revenue by Gender:\n",
      "Gender\n",
      "F    1186232642\n",
      "M    3909580100\n",
      "Name: Purchase, dtype: int64\n"
     ]
    }
   ],
   "source": [
    "# Revenue by Gender\n",
    "revenue_by_gender = data.groupby('Gender')['Purchase'].sum()\n",
    "print(\"Revenue by Gender:\")\n",
    "print(revenue_by_gender)"
   ]
  },
  {
   "cell_type": "markdown",
   "id": "1c3aeaa9",
   "metadata": {},
   "source": [
    "Revenue by Gender: The data shows that males (M) contribute significantly more to the revenue (3,909,580,100) than females (F) with 1,186,232,642. This insight can help inform marketing strategies tailored to each gender."
   ]
  },
  {
   "cell_type": "code",
   "execution_count": 23,
   "id": "ef390fe4",
   "metadata": {},
   "outputs": [
    {
     "name": "stdout",
     "output_type": "stream",
     "text": [
      "Revenue by Age Group:\n",
      "Age\n",
      "0-17      134913183\n",
      "18-25     913848675\n",
      "26-35    2031770578\n",
      "36-45    1026569884\n",
      "46-50     420843403\n",
      "51-55     367099644\n",
      "55+       200767375\n",
      "Name: Purchase, dtype: int64\n"
     ]
    }
   ],
   "source": [
    "# Revenue by Age Group\n",
    "revenue_by_age = data.groupby('Age')['Purchase'].sum()\n",
    "print(\"Revenue by Age Group:\")\n",
    "print(revenue_by_age)"
   ]
  },
  {
   "cell_type": "markdown",
   "id": "4638514d",
   "metadata": {},
   "source": [
    "Revenue by Age Group: Revenue distribution across age groups shows that the 26-35 age group generates the highest revenue (2,031,770,578), followed by the 36-45 age group (1,026,569,884). These groups may be targeted for future campaigns to drive further sales."
   ]
  },
  {
   "cell_type": "code",
   "execution_count": 24,
   "id": "6401cf3c",
   "metadata": {},
   "outputs": [
    {
     "name": "stdout",
     "output_type": "stream",
     "text": [
      "Revenue by City Category:\n",
      "City_Category\n",
      "A    1316471661\n",
      "B    2115533605\n",
      "C    1663807476\n",
      "Name: Purchase, dtype: int64\n"
     ]
    }
   ],
   "source": [
    "# Revenue by City Category\n",
    "revenue_by_city = data.groupby('City_Category')['Purchase'].sum()\n",
    "print(\"Revenue by City Category:\")\n",
    "print(revenue_by_city)"
   ]
  },
  {
   "cell_type": "markdown",
   "id": "8379e681",
   "metadata": {},
   "source": [
    "Revenue by City Category: The data indicates that customers from City Category B contribute the highest revenue (2,115,533,605), followed by City Category C (1,663,807,476). This suggests that marketing efforts can be focused on these categories to maximize revenue."
   ]
  },
  {
   "cell_type": "code",
   "execution_count": 25,
   "id": "fe149f30",
   "metadata": {},
   "outputs": [
    {
     "name": "stdout",
     "output_type": "stream",
     "text": [
      "Average Order Value (AOV): 9263.968712959126\n"
     ]
    }
   ],
   "source": [
    "# Average Order Value\n",
    "average_order_value = data['Purchase'].mean()\n",
    "print(f\"Average Order Value (AOV): {average_order_value}\")"
   ]
  },
  {
   "cell_type": "markdown",
   "id": "0ccc1425",
   "metadata": {},
   "source": [
    "Average Order Value (AOV): The Average Order Value (AOV) is the same as the Average Purchase Value, 9,264, indicating that each transaction typically amounts to this value."
   ]
  },
  {
   "cell_type": "code",
   "execution_count": 26,
   "id": "fe8aeac9",
   "metadata": {},
   "outputs": [
    {
     "name": "stdout",
     "output_type": "stream",
     "text": [
      "Cart Abandonment Rate: 50.00%\n"
     ]
    }
   ],
   "source": [
    "# Simulate cart addition and purchase completion\n",
    "np.random.seed(42)\n",
    "data['added_to_cart'] = np.random.randint(0, 2, size=len(data))  # 0 = abandoned, 1 = completed\n",
    "\n",
    "# Cart abandonment rate\n",
    "cart_abandonment_rate = 100 * (1 - data['added_to_cart'].mean())\n",
    "print(f\"Cart Abandonment Rate: {cart_abandonment_rate:.2f}%\")\n"
   ]
  },
  {
   "cell_type": "markdown",
   "id": "1bfeddf2",
   "metadata": {},
   "source": [
    "Cart Abandonment Rate: The cart abandonment rate is 50%, indicating that half of the customers who add items to their cart do not complete their purchase. This could point to issues in the checkout process, or users abandoning carts after browsing."
   ]
  },
  {
   "cell_type": "code",
   "execution_count": 27,
   "id": "b8897b2a",
   "metadata": {},
   "outputs": [
    {
     "data": {
      "image/png": "[encoded data removed]",
      "text/plain": [
       "<Figure size 432x288 with 1 Axes>"
      ]
     },
     "metadata": {
      "needs_background": "light"
     },
     "output_type": "display_data"
    }
   ],
   "source": [
    "# Visualize revenue by gender\n",
    "sns.barplot(x=revenue_by_gender.index, y=revenue_by_gender.values)\n",
    "plt.title('Revenue by Gender')\n",
    "plt.xlabel('Gender')\n",
    "plt.ylabel('Revenue')\n",
    "plt.show()"
   ]
  },
  {
   "cell_type": "markdown",
   "id": "d3c6498a",
   "metadata": {},
   "source": [
    "* Revenue by Gender Graph: The bar graph shows the total revenue generated by each gender, with males contributing a significantly higher amount compared to females.\n",
    "* Findings: Males generated approximately 3.91 billion in revenue, while females contributed about 1.19 billion. This suggests that the male customer base is more engaged or makes higher-value purchases on average. This insight could be useful for targeted marketing campaigns or offering promotions tailored to male customers."
   ]
  },
  {
   "cell_type": "code",
   "execution_count": 28,
   "id": "7c900dc5",
   "metadata": {},
   "outputs": [
    {
     "data": {
      "image/png": "[encoded data removed]",
      "text/plain": [
       "<Figure size 432x288 with 1 Axes>"
      ]
     },
     "metadata": {
      "needs_background": "light"
     },
     "output_type": "display_data"
    }
   ],
   "source": [
    "# Visualize revenue by age group\n",
    "sns.barplot(x=revenue_by_age.index, y=revenue_by_age.values)\n",
    "plt.title('Revenue by Age Group')\n",
    "plt.xlabel('Age Group')\n",
    "plt.ylabel('Revenue')\n",
    "plt.show()"
   ]
  },
  {
   "cell_type": "markdown",
   "id": "7a899ec7",
   "metadata": {},
   "source": [
    "* Revenue by Age Group Graph: This graph visualizes the total revenue generated by different age groups. The 26-35 age group leads with the highest revenue, followed by the 36-45 group.\n",
    "* Findings: The age group 26-35 generated approximately 2.03 billion, and the 36-45 age group generated around 1.03 billion in revenue. These age groups are the primary drivers of revenue, indicating that they may be the most active or financially able to make significant purchases. Marketing efforts could be focused on these age groups, as they seem to have higher purchasing power."
   ]
  },
  {
   "cell_type": "code",
   "execution_count": 29,
   "id": "07393526",
   "metadata": {},
   "outputs": [
    {
     "data": {
      "image/png": "[encoded data removed]",
      "text/plain": [
       "<Figure size 432x288 with 1 Axes>"
      ]
     },
     "metadata": {
      "needs_background": "light"
     },
     "output_type": "display_data"
    }
   ],
   "source": [
    "# Visualize revenue by city category\n",
    "sns.barplot(x=revenue_by_city.index, y=revenue_by_city.values)\n",
    "plt.title('Revenue by City Category')\n",
    "plt.xlabel('City Category')\n",
    "plt.ylabel('Revenue')\n",
    "plt.show()"
   ]
  },
  {
   "cell_type": "markdown",
   "id": "3303696a",
   "metadata": {},
   "source": [
    "* Revenue by City Category Graph: The graph compares revenue across different city categories (A, B, and C). City Category B leads in terms of revenue, followed by Category C and Category A.\n",
    "* Findings: City Category B generated 2.11 billion in revenue, while Category C generated 1.66 billion, and Category A generated 1.31 billion. This indicates that customers in City Category B are contributing the most to total revenue, suggesting that the market in this city category is more profitable or active. Strategies to further target City B customers could potentially increase sales. Category A, with the lowest revenue, could be an area to investigate further to understand the potential for growth."
   ]
  },
  {
   "cell_type": "markdown",
   "id": "d116e768",
   "metadata": {},
   "source": [
    "## KPI analysis summary \n",
    "\n",
    "The Average Purchase Value (APV) was found to be approximately 9,264, indicating that, on average, customers spend this amount per transaction. The Total Revenue from all transactions was 5.10 billion, emphasizing the scale of purchases made on the platform. The Repeat Purchase Rate was 100%, indicating that all customers made repeat purchases, showcasing strong customer retention.\n",
    "\n",
    "Key breakdowns by various segments revealed significant differences in revenue generation:\n",
    "\n",
    "Revenue by Gender: Males contributed a higher portion of the total revenue (3.91 billion), while females contributed 1.19 billion. This suggests a stronger engagement or higher average spend from male customers.\n",
    "Revenue by Age Group: The 26-35 age group generated the highest revenue at 2.03 billion, followed by the 36-45 group with 1.03 billion. These age groups appear to be the most active and profitable, indicating they have the highest purchasing power.\n",
    "Revenue by City Category: City Category B emerged as the leading revenue generator with 2.11 billion, while City A generated the least at 1.31 billion. This suggests different market potentials and purchasing behaviors based on geographic location.\n",
    "The Cart Abandonment Rate was found to be 50%, indicating that half of the customers abandoned their carts before completing the purchase, which presents an opportunity for improvement in the checkout process.\n",
    "\n",
    "These findings from the KPI analysis provide actionable insights for improving targeting, enhancing customer engagement, and optimizing the sales process. For example, focusing marketing efforts on the most profitable age groups, targeting male customers, or addressing cart abandonment could help improve overall sales performance."
   ]
  },
  {
   "cell_type": "markdown",
   "id": "14378225",
   "metadata": {},
   "source": [
    "## Conclusion \n",
    "\n",
    "The analysis of e-commerce sales data has provided critical insights into customer purchasing behaviors and highlighted several key performance indicators (KPIs) that can help guide future strategies for growth and optimization. The Average Purchase Value (APV) and Total Revenue indicate a high level of engagement and significant monetary value generated from transactions. The Repeat Purchase Rate of 100% demonstrates excellent customer retention, suggesting that once customers make a purchase, they are likely to return, which is a strong indicator of customer loyalty.\n",
    "\n",
    "Segmenting revenue by gender, age group, and city category revealed significant variations, with males contributing the highest revenue, followed by the 26-35 age group and City Category B. These insights allow businesses to tailor marketing and promotional efforts more effectively, focusing on high-value segments to maximize profitability. Additionally, the Cart Abandonment Rate of 50% indicates an area of opportunity to improve the checkout process and reduce lost sales.\n",
    "\n",
    "Furthermore, the A/B testing showed no statistically significant difference between the control and test groups, suggesting that the new intervention did not notably impact purchasing behavior. This insight could help prioritize future tests or alternative changes to the user experience.\n",
    "\n",
    "In summary, while the data highlights strengths in customer retention and certain demographic-driven revenue opportunities, there are also areas to improve, such as cart abandonment rates and exploring further testing or adjustments to optimize the overall customer journey. By leveraging these insights, the business can refine its strategies to further enhance sales, optimize marketing efforts, and ultimately increase revenue."
   ]
  },
  {
   "cell_type": "code",
   "execution_count": null,
   "id": "06e4b42c",
   "metadata": {},
   "outputs": [],
   "source": []
  }
 ],
 "metadata": {
  "kernelspec": {
   "display_name": "Python [conda env:base] *",
   "language": "python",
   "name": "conda-base-py"
  },
  "language_info": {
   "codemirror_mode": {
    "name": "ipython",
    "version": 3
   },
   "file_extension": ".py",
   "mimetype": "text/x-python",
   "name": "python",
   "nbconvert_exporter": "python",
   "pygments_lexer": "ipython3",
   "version": "3.13.5"
  }
 },
 "nbformat": 4,
 "nbformat_minor": 5
}
